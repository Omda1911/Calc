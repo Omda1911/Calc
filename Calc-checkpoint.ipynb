{
 "cells": [
  {
   "cell_type": "code",
   "execution_count": 8,
   "id": "fa8c6873",
   "metadata": {},
   "outputs": [
    {
     "name": "stdout",
     "output_type": "stream",
     "text": [
      "Enter the first number : 10\n",
      "Enter the second number : 5\n",
      "Here We Go!\n",
      "choose one operation(+, -, *, %, **): *\n",
      "50\n",
      "Thank You !\n"
     ]
    }
   ],
   "source": [
    "# Calculator \n",
    "\n",
    "num1 = int(input(\"Enter the first number : \"))\n",
    "num2 = int(input(\"Enter the second number : \"))\n",
    "print(\"Here We Go!\")\n",
    "operation = input(\"choose one operation(+, -, *, %, **): \")\n",
    "if (operation == '+'):\n",
    "    print(num1 + num2)\n",
    "elif (operation == '-'):\n",
    "    print(num1 - num2)\n",
    "elif (operation == '*'):\n",
    "    print(num1 * num2)\n",
    "\n",
    "elif (operation == \"%\"):\n",
    "    print(num1 % num2)\n",
    "elif (operation == \"**\"):\n",
    "    print(num1 ** num2)\n",
    "      \n",
    "      \n",
    "print(\"Thank You !\")      \n",
    "      "
   ]
  },
  {
   "cell_type": "code",
   "execution_count": null,
   "id": "63bb7750",
   "metadata": {},
   "outputs": [],
   "source": []
  },
  {
   "cell_type": "code",
   "execution_count": null,
   "id": "2800c85e",
   "metadata": {},
   "outputs": [],
   "source": []
  }
 ],
 "metadata": {
  "kernelspec": {
   "display_name": "Python 3 (ipykernel)",
   "language": "python",
   "name": "python3"
  },
  "language_info": {
   "codemirror_mode": {
    "name": "ipython",
    "version": 3
   },
   "file_extension": ".py",
   "mimetype": "text/x-python",
   "name": "python",
   "nbconvert_exporter": "python",
   "pygments_lexer": "ipython3",
   "version": "3.10.9"
  }
 },
 "nbformat": 4,
 "nbformat_minor": 5
}
